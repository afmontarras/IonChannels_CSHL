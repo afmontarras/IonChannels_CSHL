{
 "cells": [
  {
   "cell_type": "code",
   "execution_count": null,
   "id": "40eb0c5b-1962-4443-9f2a-bccb5d28fc96",
   "metadata": {},
   "outputs": [],
   "source": []
  }
 ],
 "metadata": {
  "kernelspec": {
   "display_name": "",
   "name": ""
  },
  "language_info": {
   "name": ""
  },
  "widgets": {
   "application/vnd.jupyter.widget-state+json": {
    "state": {},
    "version_major": 2,
    "version_minor": 0
   }
  }
 },
 "nbformat": 4,
 "nbformat_minor": 5
}
